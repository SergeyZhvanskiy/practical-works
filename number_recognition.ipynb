{
 "cells": [
  {
   "cell_type": "markdown",
   "id": "d474fa6c",
   "metadata": {},
   "source": [
    "# Расчет степени корректности распознавания цифр"
   ]
  },
  {
   "cell_type": "markdown",
   "id": "f3dea02c",
   "metadata": {},
   "source": [
    "**Задача**"
   ]
  },
  {
   "cell_type": "markdown",
   "id": "33ff03e8",
   "metadata": {},
   "source": [
    "Требуется посчитать:\n",
    "- % правильно распознанных ячеек last4Numbers (то есть если поле last4Numbers полностью совпадает, все 4 цифры)\n",
    "- % правильно распознанных цифр для колонки last4Numbers (то есть среди всех всех цифр)\n",
    "- % правильно распознанных ячеек momentCard (то есть если поле momentCard полностью совпадает, все 8 цифр)\n",
    "- общий % правильно распознанных цифр для колонки momentCard (то есть среди всех всех цифр)\n",
    "\n",
    "dcopen_predicts.csv - распознавание модели\n",
    "dcopen_validation.csv - фактические значения\n",
    "\n",
    "Интересуют строки только с pageSide==BACK (тк цифры есть только на обратной стороне заявления)"
   ]
  },
  {
   "cell_type": "code",
   "execution_count": 1,
   "id": "63dacee3",
   "metadata": {},
   "outputs": [],
   "source": [
    "import pandas as pd"
   ]
  },
  {
   "cell_type": "code",
   "execution_count": 2,
   "id": "79c35990",
   "metadata": {},
   "outputs": [],
   "source": [
    "data_val = pd.read_csv('dcopen_validation.csv', sep = ';')\n",
    "data_pred = pd.read_csv('dcopen_predicts.csv')"
   ]
  },
  {
   "cell_type": "markdown",
   "id": "b521fd27",
   "metadata": {},
   "source": [
    "## Предварительная обработка и подготовка данных"
   ]
  },
  {
   "cell_type": "code",
   "execution_count": 3,
   "id": "73808a7e",
   "metadata": {},
   "outputs": [
    {
     "data": {
      "text/plain": [
       "(136, 12)"
      ]
     },
     "execution_count": 3,
     "metadata": {},
     "output_type": "execute_result"
    }
   ],
   "source": [
    "data_val.shape"
   ]
  },
  {
   "cell_type": "code",
   "execution_count": 4,
   "id": "03e4734f",
   "metadata": {},
   "outputs": [
    {
     "data": {
      "text/plain": [
       "(135, 13)"
      ]
     },
     "execution_count": 4,
     "metadata": {},
     "output_type": "execute_result"
    }
   ],
   "source": [
    "data_pred.shape"
   ]
  },
  {
   "cell_type": "code",
   "execution_count": 5,
   "id": "8e12978c",
   "metadata": {},
   "outputs": [],
   "source": [
    "df = data_val\n",
    "df.drop(df.columns[[1, 2, 3, 4, 6, 7, 9, 10, 11]], axis = 1, inplace = True)"
   ]
  },
  {
   "cell_type": "code",
   "execution_count": 6,
   "id": "5d1fad99",
   "metadata": {},
   "outputs": [],
   "source": [
    "df = df.rename(columns = {'last4Numbers':'l4n_val', 'momentCard': 'mc_val'})"
   ]
  },
  {
   "cell_type": "code",
   "execution_count": 7,
   "id": "66b8ef55",
   "metadata": {},
   "outputs": [],
   "source": [
    "df['l4n_pred'] = data_pred['last4Numbers']\n",
    "df['mc_pred'] = data_pred['momentCard']"
   ]
  },
  {
   "cell_type": "code",
   "execution_count": 8,
   "id": "bd27db4d",
   "metadata": {},
   "outputs": [],
   "source": [
    "df = df.reindex(columns=['pdf_name_i', 'l4n_pred', 'l4n_val', 'mc_pred', 'mc_val'])"
   ]
  },
  {
   "cell_type": "code",
   "execution_count": 9,
   "id": "d4277f3b",
   "metadata": {},
   "outputs": [],
   "source": [
    "df['pdf_pred'] = data_pred['pdf_name_i']"
   ]
  },
  {
   "cell_type": "markdown",
   "id": "e825c3f7",
   "metadata": {},
   "source": [
    "Определим, есть ли несовпадения в строках по имени png-файлов"
   ]
  },
  {
   "cell_type": "code",
   "execution_count": 10,
   "id": "b53eb88c",
   "metadata": {},
   "outputs": [
    {
     "data": {
      "text/html": [
       "<div>\n",
       "<style scoped>\n",
       "    .dataframe tbody tr th:only-of-type {\n",
       "        vertical-align: middle;\n",
       "    }\n",
       "\n",
       "    .dataframe tbody tr th {\n",
       "        vertical-align: top;\n",
       "    }\n",
       "\n",
       "    .dataframe thead th {\n",
       "        text-align: right;\n",
       "    }\n",
       "</style>\n",
       "<table border=\"1\" class=\"dataframe\">\n",
       "  <thead>\n",
       "    <tr style=\"text-align: right;\">\n",
       "      <th></th>\n",
       "      <th>pdf_name_i</th>\n",
       "      <th>l4n_pred</th>\n",
       "      <th>l4n_val</th>\n",
       "      <th>mc_pred</th>\n",
       "      <th>mc_val</th>\n",
       "      <th>pdf_pred</th>\n",
       "    </tr>\n",
       "  </thead>\n",
       "  <tbody>\n",
       "    <tr>\n",
       "      <th>135</th>\n",
       "      <td>ADJ5QN_APCAC_110433711_2.png</td>\n",
       "      <td>NaN</td>\n",
       "      <td>6067.0</td>\n",
       "      <td>NaN</td>\n",
       "      <td>14526231.0</td>\n",
       "      <td>NaN</td>\n",
       "    </tr>\n",
       "  </tbody>\n",
       "</table>\n",
       "</div>"
      ],
      "text/plain": [
       "                       pdf_name_i  l4n_pred  l4n_val  mc_pred      mc_val  \\\n",
       "135  ADJ5QN_APCAC_110433711_2.png       NaN   6067.0      NaN  14526231.0   \n",
       "\n",
       "    pdf_pred  \n",
       "135      NaN  "
      ]
     },
     "execution_count": 10,
     "metadata": {},
     "output_type": "execute_result"
    }
   ],
   "source": [
    "df.query('pdf_name_i != pdf_pred')"
   ]
  },
  {
   "cell_type": "markdown",
   "id": "70277048",
   "metadata": {},
   "source": [
    "Таких не оказалось (есть только один отсутствующий - последний). Подтверждено совпадение порядков данных в обеих таблицах."
   ]
  },
  {
   "cell_type": "code",
   "execution_count": 11,
   "id": "e1ebb326",
   "metadata": {},
   "outputs": [],
   "source": [
    "df = df.dropna()"
   ]
  },
  {
   "cell_type": "code",
   "execution_count": 12,
   "id": "b48e852c",
   "metadata": {},
   "outputs": [
    {
     "data": {
      "text/html": [
       "<div>\n",
       "<style scoped>\n",
       "    .dataframe tbody tr th:only-of-type {\n",
       "        vertical-align: middle;\n",
       "    }\n",
       "\n",
       "    .dataframe tbody tr th {\n",
       "        vertical-align: top;\n",
       "    }\n",
       "\n",
       "    .dataframe thead th {\n",
       "        text-align: right;\n",
       "    }\n",
       "</style>\n",
       "<table border=\"1\" class=\"dataframe\">\n",
       "  <thead>\n",
       "    <tr style=\"text-align: right;\">\n",
       "      <th></th>\n",
       "      <th>pdf_name_i</th>\n",
       "      <th>l4n_pred</th>\n",
       "      <th>l4n_val</th>\n",
       "      <th>mc_pred</th>\n",
       "      <th>mc_val</th>\n",
       "      <th>pdf_pred</th>\n",
       "    </tr>\n",
       "  </thead>\n",
       "  <tbody>\n",
       "    <tr>\n",
       "      <th>1</th>\n",
       "      <td>ADHY7A_APCAC_110378177_2.png</td>\n",
       "      <td>4667.0</td>\n",
       "      <td>4667.0</td>\n",
       "      <td>74554043.0</td>\n",
       "      <td>14554043.0</td>\n",
       "      <td>ADHY7A_APCAC_110378177_2.png</td>\n",
       "    </tr>\n",
       "    <tr>\n",
       "      <th>3</th>\n",
       "      <td>ADHYN3_APCAC_110380025_2.png</td>\n",
       "      <td>3216.0</td>\n",
       "      <td>5633.0</td>\n",
       "      <td>11453467.0</td>\n",
       "      <td>14433067.0</td>\n",
       "      <td>ADHYN3_APCAC_110380025_2.png</td>\n",
       "    </tr>\n",
       "    <tr>\n",
       "      <th>5</th>\n",
       "      <td>ADHYXW_APCAC_110406316_2.png</td>\n",
       "      <td>4040.0</td>\n",
       "      <td>1248.0</td>\n",
       "      <td>44078861.0</td>\n",
       "      <td>14676264.0</td>\n",
       "      <td>ADHYXW_APCAC_110406316_2.png</td>\n",
       "    </tr>\n",
       "    <tr>\n",
       "      <th>7</th>\n",
       "      <td>ADHZ4L_APCAC_110447988_2.png</td>\n",
       "      <td>831.0</td>\n",
       "      <td>1831.0</td>\n",
       "      <td>14433944.0</td>\n",
       "      <td>14432444.0</td>\n",
       "      <td>ADHZ4L_APCAC_110447988_2.png</td>\n",
       "    </tr>\n",
       "    <tr>\n",
       "      <th>11</th>\n",
       "      <td>ADHZ8M_APCAC_110418645_2.png</td>\n",
       "      <td>7332.0</td>\n",
       "      <td>7357.0</td>\n",
       "      <td>74530247.0</td>\n",
       "      <td>14552249.0</td>\n",
       "      <td>ADHZ8M_APCAC_110418645_2.png</td>\n",
       "    </tr>\n",
       "  </tbody>\n",
       "</table>\n",
       "</div>"
      ],
      "text/plain": [
       "                      pdf_name_i  l4n_pred  l4n_val     mc_pred      mc_val  \\\n",
       "1   ADHY7A_APCAC_110378177_2.png    4667.0   4667.0  74554043.0  14554043.0   \n",
       "3   ADHYN3_APCAC_110380025_2.png    3216.0   5633.0  11453467.0  14433067.0   \n",
       "5   ADHYXW_APCAC_110406316_2.png    4040.0   1248.0  44078861.0  14676264.0   \n",
       "7   ADHZ4L_APCAC_110447988_2.png     831.0   1831.0  14433944.0  14432444.0   \n",
       "11  ADHZ8M_APCAC_110418645_2.png    7332.0   7357.0  74530247.0  14552249.0   \n",
       "\n",
       "                        pdf_pred  \n",
       "1   ADHY7A_APCAC_110378177_2.png  \n",
       "3   ADHYN3_APCAC_110380025_2.png  \n",
       "5   ADHYXW_APCAC_110406316_2.png  \n",
       "7   ADHZ4L_APCAC_110447988_2.png  \n",
       "11  ADHZ8M_APCAC_110418645_2.png  "
      ]
     },
     "execution_count": 12,
     "metadata": {},
     "output_type": "execute_result"
    }
   ],
   "source": [
    "df.head(5)"
   ]
  },
  {
   "cell_type": "code",
   "execution_count": 13,
   "id": "7d536abd",
   "metadata": {},
   "outputs": [],
   "source": [
    "df_l4n = df.drop(['mc_pred', 'mc_val', 'pdf_pred'], axis = 1)\n",
    "df_l4n = df_l4n.rename(columns = {'l4n_val':'validated', 'l4n_pred': 'predicts'})"
   ]
  },
  {
   "cell_type": "code",
   "execution_count": 14,
   "id": "420017bd",
   "metadata": {},
   "outputs": [
    {
     "data": {
      "text/html": [
       "<div>\n",
       "<style scoped>\n",
       "    .dataframe tbody tr th:only-of-type {\n",
       "        vertical-align: middle;\n",
       "    }\n",
       "\n",
       "    .dataframe tbody tr th {\n",
       "        vertical-align: top;\n",
       "    }\n",
       "\n",
       "    .dataframe thead th {\n",
       "        text-align: right;\n",
       "    }\n",
       "</style>\n",
       "<table border=\"1\" class=\"dataframe\">\n",
       "  <thead>\n",
       "    <tr style=\"text-align: right;\">\n",
       "      <th></th>\n",
       "      <th>index</th>\n",
       "      <th>pdf_name_i</th>\n",
       "      <th>predicts</th>\n",
       "      <th>validated</th>\n",
       "    </tr>\n",
       "  </thead>\n",
       "  <tbody>\n",
       "    <tr>\n",
       "      <th>0</th>\n",
       "      <td>1</td>\n",
       "      <td>ADHY7A_APCAC_110378177_2.png</td>\n",
       "      <td>4667</td>\n",
       "      <td>4667</td>\n",
       "    </tr>\n",
       "    <tr>\n",
       "      <th>1</th>\n",
       "      <td>3</td>\n",
       "      <td>ADHYN3_APCAC_110380025_2.png</td>\n",
       "      <td>3216</td>\n",
       "      <td>5633</td>\n",
       "    </tr>\n",
       "    <tr>\n",
       "      <th>2</th>\n",
       "      <td>5</td>\n",
       "      <td>ADHYXW_APCAC_110406316_2.png</td>\n",
       "      <td>4040</td>\n",
       "      <td>1248</td>\n",
       "    </tr>\n",
       "    <tr>\n",
       "      <th>3</th>\n",
       "      <td>7</td>\n",
       "      <td>ADHZ4L_APCAC_110447988_2.png</td>\n",
       "      <td>831</td>\n",
       "      <td>1831</td>\n",
       "    </tr>\n",
       "    <tr>\n",
       "      <th>4</th>\n",
       "      <td>11</td>\n",
       "      <td>ADHZ8M_APCAC_110418645_2.png</td>\n",
       "      <td>7332</td>\n",
       "      <td>7357</td>\n",
       "    </tr>\n",
       "    <tr>\n",
       "      <th>5</th>\n",
       "      <td>13</td>\n",
       "      <td>ADHZ9K_APCAC_110432995_2.png</td>\n",
       "      <td>3452</td>\n",
       "      <td>5827</td>\n",
       "    </tr>\n",
       "    <tr>\n",
       "      <th>6</th>\n",
       "      <td>15</td>\n",
       "      <td>ADHZB3_APCAC_110398898_2.png</td>\n",
       "      <td>6778</td>\n",
       "      <td>6778</td>\n",
       "    </tr>\n",
       "    <tr>\n",
       "      <th>7</th>\n",
       "      <td>17</td>\n",
       "      <td>ADHZBM_APCAC_110389516_2.png</td>\n",
       "      <td>7833</td>\n",
       "      <td>1833</td>\n",
       "    </tr>\n",
       "    <tr>\n",
       "      <th>8</th>\n",
       "      <td>19</td>\n",
       "      <td>ADHZDD_APCAC_110382354_2.png</td>\n",
       "      <td>3558</td>\n",
       "      <td>9358</td>\n",
       "    </tr>\n",
       "    <tr>\n",
       "      <th>9</th>\n",
       "      <td>21</td>\n",
       "      <td>ADHZE6_APCAC_110437131_2.png</td>\n",
       "      <td>9813</td>\n",
       "      <td>9843</td>\n",
       "    </tr>\n",
       "  </tbody>\n",
       "</table>\n",
       "</div>"
      ],
      "text/plain": [
       "   index                    pdf_name_i predicts validated\n",
       "0      1  ADHY7A_APCAC_110378177_2.png     4667      4667\n",
       "1      3  ADHYN3_APCAC_110380025_2.png     3216      5633\n",
       "2      5  ADHYXW_APCAC_110406316_2.png     4040      1248\n",
       "3      7  ADHZ4L_APCAC_110447988_2.png      831      1831\n",
       "4     11  ADHZ8M_APCAC_110418645_2.png     7332      7357\n",
       "5     13  ADHZ9K_APCAC_110432995_2.png     3452      5827\n",
       "6     15  ADHZB3_APCAC_110398898_2.png     6778      6778\n",
       "7     17  ADHZBM_APCAC_110389516_2.png     7833      1833\n",
       "8     19  ADHZDD_APCAC_110382354_2.png     3558      9358\n",
       "9     21  ADHZE6_APCAC_110437131_2.png     9813      9843"
      ]
     },
     "execution_count": 14,
     "metadata": {},
     "output_type": "execute_result"
    }
   ],
   "source": [
    "df_l4n['predicts'] = df_l4n['predicts'].astype('int').astype('str')\n",
    "df_l4n['validated'] = df_l4n['validated'].astype('int').astype('str')\n",
    "df_l4n = df_l4n.reset_index()\n",
    "df_l4n.head(10)"
   ]
  },
  {
   "cell_type": "code",
   "execution_count": 15,
   "id": "7a97be7d",
   "metadata": {},
   "outputs": [],
   "source": [
    "df_mc = df.drop(['l4n_pred', 'l4n_val', 'pdf_pred'], axis = 1)\n",
    "df_mc = df_mc.rename(columns = {'mc_val':'validated', 'mc_pred': 'predicts'})"
   ]
  },
  {
   "cell_type": "code",
   "execution_count": 16,
   "id": "417ff811",
   "metadata": {},
   "outputs": [
    {
     "data": {
      "text/html": [
       "<div>\n",
       "<style scoped>\n",
       "    .dataframe tbody tr th:only-of-type {\n",
       "        vertical-align: middle;\n",
       "    }\n",
       "\n",
       "    .dataframe tbody tr th {\n",
       "        vertical-align: top;\n",
       "    }\n",
       "\n",
       "    .dataframe thead th {\n",
       "        text-align: right;\n",
       "    }\n",
       "</style>\n",
       "<table border=\"1\" class=\"dataframe\">\n",
       "  <thead>\n",
       "    <tr style=\"text-align: right;\">\n",
       "      <th></th>\n",
       "      <th>index</th>\n",
       "      <th>pdf_name_i</th>\n",
       "      <th>predicts</th>\n",
       "      <th>validated</th>\n",
       "    </tr>\n",
       "  </thead>\n",
       "  <tbody>\n",
       "    <tr>\n",
       "      <th>0</th>\n",
       "      <td>1</td>\n",
       "      <td>ADHY7A_APCAC_110378177_2.png</td>\n",
       "      <td>74554043</td>\n",
       "      <td>14554043</td>\n",
       "    </tr>\n",
       "    <tr>\n",
       "      <th>1</th>\n",
       "      <td>3</td>\n",
       "      <td>ADHYN3_APCAC_110380025_2.png</td>\n",
       "      <td>11453467</td>\n",
       "      <td>14433067</td>\n",
       "    </tr>\n",
       "    <tr>\n",
       "      <th>2</th>\n",
       "      <td>5</td>\n",
       "      <td>ADHYXW_APCAC_110406316_2.png</td>\n",
       "      <td>44078861</td>\n",
       "      <td>14676264</td>\n",
       "    </tr>\n",
       "    <tr>\n",
       "      <th>3</th>\n",
       "      <td>7</td>\n",
       "      <td>ADHZ4L_APCAC_110447988_2.png</td>\n",
       "      <td>14433944</td>\n",
       "      <td>14432444</td>\n",
       "    </tr>\n",
       "    <tr>\n",
       "      <th>4</th>\n",
       "      <td>11</td>\n",
       "      <td>ADHZ8M_APCAC_110418645_2.png</td>\n",
       "      <td>74530247</td>\n",
       "      <td>14552249</td>\n",
       "    </tr>\n",
       "    <tr>\n",
       "      <th>5</th>\n",
       "      <td>13</td>\n",
       "      <td>ADHZ9K_APCAC_110432995_2.png</td>\n",
       "      <td>14536132</td>\n",
       "      <td>14554018</td>\n",
       "    </tr>\n",
       "    <tr>\n",
       "      <th>6</th>\n",
       "      <td>15</td>\n",
       "      <td>ADHZB3_APCAC_110398898_2.png</td>\n",
       "      <td>14605153</td>\n",
       "      <td>14605157</td>\n",
       "    </tr>\n",
       "    <tr>\n",
       "      <th>7</th>\n",
       "      <td>17</td>\n",
       "      <td>ADHZBM_APCAC_110389516_2.png</td>\n",
       "      <td>22071465</td>\n",
       "      <td>12814465</td>\n",
       "    </tr>\n",
       "    <tr>\n",
       "      <th>8</th>\n",
       "      <td>19</td>\n",
       "      <td>ADHZDD_APCAC_110382354_2.png</td>\n",
       "      <td>2630280</td>\n",
       "      <td>14491221</td>\n",
       "    </tr>\n",
       "    <tr>\n",
       "      <th>9</th>\n",
       "      <td>21</td>\n",
       "      <td>ADHZE6_APCAC_110437131_2.png</td>\n",
       "      <td>14429741</td>\n",
       "      <td>14428511</td>\n",
       "    </tr>\n",
       "  </tbody>\n",
       "</table>\n",
       "</div>"
      ],
      "text/plain": [
       "   index                    pdf_name_i  predicts validated\n",
       "0      1  ADHY7A_APCAC_110378177_2.png  74554043  14554043\n",
       "1      3  ADHYN3_APCAC_110380025_2.png  11453467  14433067\n",
       "2      5  ADHYXW_APCAC_110406316_2.png  44078861  14676264\n",
       "3      7  ADHZ4L_APCAC_110447988_2.png  14433944  14432444\n",
       "4     11  ADHZ8M_APCAC_110418645_2.png  74530247  14552249\n",
       "5     13  ADHZ9K_APCAC_110432995_2.png  14536132  14554018\n",
       "6     15  ADHZB3_APCAC_110398898_2.png  14605153  14605157\n",
       "7     17  ADHZBM_APCAC_110389516_2.png  22071465  12814465\n",
       "8     19  ADHZDD_APCAC_110382354_2.png   2630280  14491221\n",
       "9     21  ADHZE6_APCAC_110437131_2.png  14429741  14428511"
      ]
     },
     "execution_count": 16,
     "metadata": {},
     "output_type": "execute_result"
    }
   ],
   "source": [
    "df_mc['predicts'] = df_mc['predicts'].astype('int').astype('str')\n",
    "df_mc['validated'] = df_mc['validated'].astype('int').astype('str')\n",
    "df_mc = df_mc.reset_index()\n",
    "df_mc.head(10)"
   ]
  },
  {
   "cell_type": "markdown",
   "id": "20444606",
   "metadata": {},
   "source": [
    "### Функции"
   ]
  },
  {
   "cell_type": "code",
   "execution_count": 17,
   "id": "51856956",
   "metadata": {
    "scrolled": false
   },
   "outputs": [],
   "source": [
    "# Удаление строк, где количество проверяемых символов не совпадает\n",
    "# На входе df с двумя обязательными колонками (validated и predicts в формате 'str')\n",
    "def delete_bad_rows (df):\n",
    "    to_delete_row = []\n",
    "    print('Случаи несовпадения длины проверяемых записей (будут исключены из дальнейшего сравнения):', '\\n')\n",
    "    for row in range(len(df)):\n",
    "        if len(list(df['predicts'][row])) != len(list(df['validated'][row])):\n",
    "            print(df.loc[row], '\\n')\n",
    "            to_delete_row.append(row)\n",
    "    # print(to_delete_row)\n",
    "    df = df.drop(to_delete_row).reset_index(drop=True)\n",
    "    return df"
   ]
  },
  {
   "cell_type": "code",
   "execution_count": 18,
   "id": "80a19d07",
   "metadata": {},
   "outputs": [],
   "source": [
    "# Функция для расчета сходства по ЦИФРОВЫМ символам\n",
    "# На входе df с двумя обязательными колонками (validated и predicts в формате 'str')\n",
    "def matrix(df):\n",
    "    cross = pd.DataFrame(index=range(10),columns=range(10)).fillna(0)\n",
    "    for item in range(len(df)):\n",
    "        symbol_val = list(df['validated'][item])\n",
    "        symbol_pred = list(df['predicts'][item])\n",
    "        for position in range(len(symbol_val)):\n",
    "            row = int(symbol_val[position])\n",
    "            column = int(symbol_pred[position])\n",
    "            cross.iloc[row, column] += 1\n",
    "    return cross"
   ]
  },
  {
   "cell_type": "code",
   "execution_count": 19,
   "id": "09b64edf",
   "metadata": {},
   "outputs": [],
   "source": [
    "def resume(cross):\n",
    "    total = cross.sum().sum()\n",
    "\n",
    "    correct_pos = 0\n",
    "    for index in range(len(cross)):\n",
    "        correct_pos += cross[index][index]\n",
    "\n",
    "    print(f'Всего символов: {total}\\nИз них правильно определено: {correct_pos}')\n",
    "    print(f'Доля правильных: {correct_pos/total:.2%}', '\\n')\n",
    "    print(cross)"
   ]
  },
  {
   "cell_type": "markdown",
   "id": "83f40fa9",
   "metadata": {},
   "source": [
    "## momentCard"
   ]
  },
  {
   "cell_type": "code",
   "execution_count": 20,
   "id": "09076a61",
   "metadata": {},
   "outputs": [
    {
     "name": "stdout",
     "output_type": "stream",
     "text": [
      "Всего записей: 62\n",
      "Из них правильно определено: 3\n",
      "Доля правильных записей: 4.84%\n"
     ]
    }
   ],
   "source": [
    "correct = df_mc[df_mc['predicts'] == df_mc['validated']]['validated'].count()\n",
    "print(f'Всего записей: {len(df_mc)}\\nИз них правильно определено: {correct}')\n",
    "print(f'Доля правильных записей: {correct/len(df_mc):.2%}')"
   ]
  },
  {
   "cell_type": "code",
   "execution_count": 21,
   "id": "99c6e2b0",
   "metadata": {},
   "outputs": [
    {
     "name": "stdout",
     "output_type": "stream",
     "text": [
      "Случаи несовпадения длины проверяемых записей (будут исключены из дальнейшего сравнения): \n",
      "\n",
      "index                                   19\n",
      "pdf_name_i    ADHZDD_APCAC_110382354_2.png\n",
      "predicts                           2630280\n",
      "validated                         14491221\n",
      "Name: 8, dtype: object \n",
      "\n",
      "index                                   49\n",
      "pdf_name_i    ADJ186_APCAC_110425596_2.png\n",
      "predicts                            255997\n",
      "validated                         14236591\n",
      "Name: 24, dtype: object \n",
      "\n",
      "index                                   89\n",
      "pdf_name_i    ADJ2T5_APCAC_110446996_2.png\n",
      "predicts                           4227653\n",
      "validated                         14227603\n",
      "Name: 41, dtype: object \n",
      "\n"
     ]
    }
   ],
   "source": [
    "df_mc = delete_bad_rows (df_mc)"
   ]
  },
  {
   "cell_type": "code",
   "execution_count": 22,
   "id": "365d260c",
   "metadata": {},
   "outputs": [
    {
     "name": "stdout",
     "output_type": "stream",
     "text": [
      "Всего символов: 472\n",
      "Из них правильно определено: 299\n",
      "Доля правильных: 63.35% \n",
      "\n",
      "    0   1   2   3   4   5   6   7   8   9\n",
      "0  19   2   1   0   2   2   5   2   1   2\n",
      "1   4  55   3   4  13   0   0  18   0   0\n",
      "2   3   0  25   2   0   1   1   4   1   0\n",
      "3   0   0   0  29   0   3   0   1   0   0\n",
      "4   1  10   1   1  75   1   5   1   0   2\n",
      "5   0   1   0   3   0  35   0   2   0   3\n",
      "6   4   3   3   3   1   0  17   0   6   4\n",
      "7   0   1   5   4   0   3   0  18   2   0\n",
      "8   2   1   3   1   1   0   0   0  14   3\n",
      "9   2   3   0   3   1   3   0   3   2  12\n"
     ]
    }
   ],
   "source": [
    "cross = matrix(df_mc)\n",
    "resume(cross)"
   ]
  },
  {
   "cell_type": "markdown",
   "id": "c0d98782",
   "metadata": {},
   "source": [
    "## last4Numbers"
   ]
  },
  {
   "cell_type": "code",
   "execution_count": 23,
   "id": "5b0b21c2",
   "metadata": {},
   "outputs": [
    {
     "name": "stdout",
     "output_type": "stream",
     "text": [
      "Всего записей: 62\n",
      "Из них правильно определено: 13\n",
      "Доля правильных записей: 20.97%\n"
     ]
    }
   ],
   "source": [
    "correct = df_l4n[df_l4n['predicts'] == df_l4n['validated']]['validated'].count()\n",
    "print(f'Всего записей: {len(df_l4n)}\\nИз них правильно определено: {correct}')\n",
    "print(f'Доля правильных записей: {correct/len(df_l4n):.2%}')"
   ]
  },
  {
   "cell_type": "code",
   "execution_count": 24,
   "id": "15e8e09f",
   "metadata": {},
   "outputs": [
    {
     "name": "stdout",
     "output_type": "stream",
     "text": [
      "Случаи несовпадения длины проверяемых записей (будут исключены из дальнейшего сравнения): \n",
      "\n",
      "index                                    7\n",
      "pdf_name_i    ADHZ4L_APCAC_110447988_2.png\n",
      "predicts                               831\n",
      "validated                             1831\n",
      "Name: 3, dtype: object \n",
      "\n",
      "index                                   27\n",
      "pdf_name_i    ADHZQ0_APCAC_110374517_2.png\n",
      "predicts                              5884\n",
      "validated                              881\n",
      "Name: 12, dtype: object \n",
      "\n",
      "index                                   34\n",
      "pdf_name_i    ADJ0BS_APCAC_110398364_2.png\n",
      "predicts                              3753\n",
      "validated                              965\n",
      "Name: 16, dtype: object \n",
      "\n",
      "index                                   51\n",
      "pdf_name_i    ADJ1A0_APCAC_110382341_2.png\n",
      "predicts                              6160\n",
      "validated                              106\n",
      "Name: 25, dtype: object \n",
      "\n",
      "index                                   59\n",
      "pdf_name_i    ADJ1TT_APCAC_110409234_2.png\n",
      "predicts                              6657\n",
      "validated                               52\n",
      "Name: 29, dtype: object \n",
      "\n",
      "index                                   87\n",
      "pdf_name_i    ADJ2QZ_APCAC_110408147_2.png\n",
      "predicts                               814\n",
      "validated                             2734\n",
      "Name: 40, dtype: object \n",
      "\n",
      "index                                  105\n",
      "pdf_name_i    ADJ354_APCAC_110430533_2.png\n",
      "predicts                               255\n",
      "validated                             6299\n",
      "Name: 49, dtype: object \n",
      "\n",
      "index                                  115\n",
      "pdf_name_i    ADJ4G5_APCAC_110417122_2.png\n",
      "predicts                              5654\n",
      "validated                              457\n",
      "Name: 53, dtype: object \n",
      "\n"
     ]
    }
   ],
   "source": [
    "df_l4n = delete_bad_rows (df_l4n)"
   ]
  },
  {
   "cell_type": "code",
   "execution_count": 25,
   "id": "84b869ef",
   "metadata": {},
   "outputs": [
    {
     "name": "stdout",
     "output_type": "stream",
     "text": [
      "Всего символов: 213\n",
      "Из них правильно определено: 135\n",
      "Доля правильных: 63.38% \n",
      "\n",
      "    0   1   2   3   4   5   6  7   8   9\n",
      "0  11   0   1   0   0   1   1  0   0   1\n",
      "1   0  16   0   0   4   0   0  2   0   0\n",
      "2   2   2  10   0   0   1   0  3   1   0\n",
      "3   1   1   2  14   0   2   1  1   0   0\n",
      "4   1   2   1   1  18   0   0  1   0   0\n",
      "5   0   0   0   4   0  17   0  1   0   0\n",
      "6   0   0   2   2   0   2  11  1   5   1\n",
      "7   0   0   3   1   1   1   0  9   2   0\n",
      "8   1   0   0   0   1   1   1  0  16   2\n",
      "9   2   0   0   5   1   4   0  0   1  13\n"
     ]
    }
   ],
   "source": [
    "cross = matrix(df_l4n)\n",
    "resume(cross)"
   ]
  },
  {
   "cell_type": "code",
   "execution_count": null,
   "id": "8bae3345",
   "metadata": {},
   "outputs": [],
   "source": []
  }
 ],
 "metadata": {
  "kernelspec": {
   "display_name": "Python 3 (ipykernel)",
   "language": "python",
   "name": "python3"
  },
  "language_info": {
   "codemirror_mode": {
    "name": "ipython",
    "version": 3
   },
   "file_extension": ".py",
   "mimetype": "text/x-python",
   "name": "python",
   "nbconvert_exporter": "python",
   "pygments_lexer": "ipython3",
   "version": "3.9.7"
  }
 },
 "nbformat": 4,
 "nbformat_minor": 5
}
